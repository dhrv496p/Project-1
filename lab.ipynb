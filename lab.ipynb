{
 "cells": [
  {
   "cell_type": "markdown",
   "metadata": {},
   "source": [
    "Student Survey Analysis Project  \n",
    "Name: Dhruv Patel  \n",
    "Date: October, 2024  \n",
    "Exercise: Project 1 - Data Cleaning and Analysis  \n",
    "Purpose: Explore and clean survey results from computing majors\n"
   ]
  },
  {
   "cell_type": "markdown",
   "metadata": {},
   "source": [
    "Import required libraries"
   ]
  },
  {
   "cell_type": "code",
   "execution_count": 1,
   "metadata": {},
   "outputs": [],
   "source": [
    "import pandas as pd\n",
    "import zipfile"
   ]
  },
  {
   "cell_type": "markdown",
   "metadata": {},
   "source": [
    "Read the dataset from zip files (using 2023)"
   ]
  },
  {
   "cell_type": "code",
   "execution_count": 2,
   "metadata": {},
   "outputs": [],
   "source": [
    "majors_df = pd.read_csv(\n",
    "    \"Majors Survey Results(1)\\\\Majors Survey Results - Fall 2023.csv\"\n",
    ")"
   ]
  },
  {
   "cell_type": "markdown",
   "metadata": {},
   "source": [
    "# Exploration of Majors Dataset"
   ]
  },
  {
   "cell_type": "code",
   "execution_count": 3,
   "metadata": {},
   "outputs": [
    {
     "name": "stdout",
     "output_type": "stream",
     "text": [
      "Shape:\n",
      "(242, 92)\n"
     ]
    }
   ],
   "source": [
    "print(\"Shape:\")\n",
    "print(majors_df.shape)"
   ]
  },
  {
   "cell_type": "code",
   "execution_count": 4,
   "metadata": {},
   "outputs": [
    {
     "name": "stdout",
     "output_type": "stream",
     "text": [
      "Data Types:\n",
      "Timestamp                                                                                                                                               object\n",
      "Which course are you enrolled in?                                                                                                                       object\n",
      "How did you hear about County College of Morris? [CCM Web site]                                                                                         object\n",
      "How did you hear about County College of Morris? [Social Media]                                                                                         object\n",
      "How did you hear about County College of Morris? [Community Event]                                                                                      object\n",
      "                                                                                                                                                        ...   \n",
      "On a scale of 1 to 5, with 1 being not at all interested and 5 being extremely interested, how interested are you in taking more computing classes?    float64\n",
      "Please explain your answer to the question above.  Why or why not would you be interested in taking another computing class?                            object\n",
      "Gender                                                                                                                                                  object\n",
      "Race/ethnicity                                                                                                                                          object\n",
      "Age                                                                                                                                                     object\n",
      "Length: 92, dtype: object\n"
     ]
    }
   ],
   "source": [
    "print(\"Data Types:\")\n",
    "print(majors_df.dtypes)"
   ]
  },
  {
   "cell_type": "code",
   "execution_count": 5,
   "metadata": {},
   "outputs": [
    {
     "name": "stdout",
     "output_type": "stream",
     "text": [
      "Descriptive Statistics:\n",
      "       On a scale of 1 to 5, with 1 being not at all interested and 5 being extremely interested, how interested are you in taking more computing classes?\n",
      "count                                          62.000000                                                                                                  \n",
      "mean                                            3.741935                                                                                                  \n",
      "std                                             0.974015                                                                                                  \n",
      "min                                             1.000000                                                                                                  \n",
      "25%                                             3.000000                                                                                                  \n",
      "50%                                             4.000000                                                                                                  \n",
      "75%                                             4.750000                                                                                                  \n",
      "max                                             5.000000                                                                                                  \n"
     ]
    }
   ],
   "source": [
    "print(\"Descriptive Statistics:\")\n",
    "print(majors_df.describe())"
   ]
  },
  {
   "cell_type": "code",
   "execution_count": 6,
   "metadata": {},
   "outputs": [
    {
     "name": "stdout",
     "output_type": "stream",
     "text": [
      "First 5 rows:\n",
      "                    Timestamp   Which course are you enrolled in?  \\\n",
      "0   2023/09/04 5:12:28 PM EST  CMP 239 Internet & Web Page Design   \n",
      "1   2023/09/04 5:15:24 PM EST          CMP 128 Computer Science I   \n",
      "2   2023/09/04 9:19:18 PM EST  CMP 239 Internet & Web Page Design   \n",
      "3  2023/09/04 10:55:07 PM EST  CMP 239 Internet & Web Page Design   \n",
      "4   2023/09/05 8:53:07 AM EST  CMP 239 Internet & Web Page Design   \n",
      "\n",
      "  How did you hear about County College of Morris? [CCM Web site]  \\\n",
      "0                                                Yes                \n",
      "1                                                Yes                \n",
      "2                                                Yes                \n",
      "3                                                Yes                \n",
      "4                                                Yes                \n",
      "\n",
      "  How did you hear about County College of Morris? [Social Media]  \\\n",
      "0                                                 No                \n",
      "1                                       Don't recall                \n",
      "2                                                Yes                \n",
      "3                                                 No                \n",
      "4                                                 No                \n",
      "\n",
      "  How did you hear about County College of Morris? [Community Event]  \\\n",
      "0                                                 No                   \n",
      "1                                                 No                   \n",
      "2                                                 No                   \n",
      "3                                                 No                   \n",
      "4                                       Don't recall                   \n",
      "\n",
      "  How did you hear about County College of Morris? [Family member or friend]  \\\n",
      "0                                                Yes                           \n",
      "1                                                Yes                           \n",
      "2                                                Yes                           \n",
      "3                                                Yes                           \n",
      "4                                                Yes                           \n",
      "\n",
      "  How did you hear about County College of Morris? [Current CCM student]  \\\n",
      "0                                                 No                       \n",
      "1                                                 No                       \n",
      "2                                                 No                       \n",
      "3                                                 No                       \n",
      "4                                                Yes                       \n",
      "\n",
      "  How did you hear about County College of Morris? [CCM Alumni]  \\\n",
      "0                                                 No              \n",
      "1                                                 No              \n",
      "2                                                 No              \n",
      "3                                                 No              \n",
      "4                                                 No              \n",
      "\n",
      "  How did you hear about County College of Morris? [High School Teacher]  \\\n",
      "0                                                 No                       \n",
      "1                                                Yes                       \n",
      "2                                                 No                       \n",
      "3                                                 No                       \n",
      "4                                                Yes                       \n",
      "\n",
      "  How did you hear about County College of Morris? [High School Counselor]  \\\n",
      "0                                                 No                         \n",
      "1                                       Don't recall                         \n",
      "2                                                Yes                         \n",
      "3                                                 No                         \n",
      "4                                                Yes                         \n",
      "\n",
      "   ...  \\\n",
      "0  ...   \n",
      "1  ...   \n",
      "2  ...   \n",
      "3  ...   \n",
      "4  ...   \n",
      "\n",
      "  Did you receive information about the CCM computing programs from any of the following sources? [Employer]  \\\n",
      "0                                                 No                                                           \n",
      "1                                                Yes                                                           \n",
      "2                                                Yes                                                           \n",
      "3                                                 No                                                           \n",
      "4                                                 No                                                           \n",
      "\n",
      "  Did you receive information about the CCM computing programs from any of the following sources? [CCM Workforce Development]  \\\n",
      "0                                                 No                                                                            \n",
      "1                                                 No                                                                            \n",
      "2                                                 No                                                                            \n",
      "3                                                 No                                                                            \n",
      "4                                                 No                                                                            \n",
      "\n",
      "  Did you receive information about the CCM computing programs from any of the following sources? [NJ Workforce Development Program]  \\\n",
      "0                                                 No                                                                                   \n",
      "1                                       Don't recall                                                                                   \n",
      "2                                                 No                                                                                   \n",
      "3                                                 No                                                                                   \n",
      "4                                                 No                                                                                   \n",
      "\n",
      "  Did you receive information about the CCM computing programs from any of the following sources? [Other]  \\\n",
      "0                                                 No                                                        \n",
      "1                                                 No                                                        \n",
      "2                                                Yes                                                        \n",
      "3                                                 No                                                        \n",
      "4                                                 No                                                        \n",
      "\n",
      "  Was a computing major/certificate your first choice, or did you change majors from a different CCM program? If you changed majors, indicate what your first major was.  \\\n",
      "0                                       First Choice                                                                                                                       \n",
      "1                                           Business                                                                                                                       \n",
      "2                                       First Choice                                                                                                                       \n",
      "3                                       First Choice                                                                                                                       \n",
      "4                                       First Choice                                                                                                                       \n",
      "\n",
      "  On a scale of 1 to 5, with 1 being not at all interested and 5 being extremely interested, how interested are you in taking more computing classes?  \\\n",
      "0                                                NaN                                                                                                    \n",
      "1                                                NaN                                                                                                    \n",
      "2                                                NaN                                                                                                    \n",
      "3                                                NaN                                                                                                    \n",
      "4                                                NaN                                                                                                    \n",
      "\n",
      "  Please explain your answer to the question above.  Why or why not would you be interested in taking another computing class?  \\\n",
      "0                                                NaN                                                                             \n",
      "1                                                NaN                                                                             \n",
      "2                                                NaN                                                                             \n",
      "3                                                NaN                                                                             \n",
      "4                                                NaN                                                                             \n",
      "\n",
      "       Gender                                     Race/ethnicity  \\\n",
      "0         Man                             Black/African American   \n",
      "1       Woman  American Indian/Native American/Alaska Native;...   \n",
      "2       Woman                                 Hispanic or Latino   \n",
      "3  Non-binary                                    White/Caucasian   \n",
      "4       Woman                                 Hispanic or Latino   \n",
      "\n",
      "             Age   \n",
      "0           35-64  \n",
      "1           21-24  \n",
      "2  18 and younger  \n",
      "3           19-20  \n",
      "4           19-20  \n",
      "\n",
      "[5 rows x 92 columns]\n"
     ]
    }
   ],
   "source": [
    "print(\"First 5 rows:\")\n",
    "print(majors_df.head())"
   ]
  },
  {
   "cell_type": "code",
   "execution_count": 7,
   "metadata": {},
   "outputs": [
    {
     "name": "stdout",
     "output_type": "stream",
     "text": [
      "Dataset Info:\n",
      "<class 'pandas.core.frame.DataFrame'>\n",
      "RangeIndex: 242 entries, 0 to 241\n",
      "Data columns (total 92 columns):\n",
      " #   Column                                                                                                                                                                                                                                                           Non-Null Count  Dtype  \n",
      "---  ------                                                                                                                                                                                                                                                           --------------  -----  \n",
      " 0   Timestamp                                                                                                                                                                                                                                                        242 non-null    object \n",
      " 1   Which course are you enrolled in?                                                                                                                                                                                                                                239 non-null    object \n",
      " 2   How did you hear about County College of Morris? [CCM Web site]                                                                                                                                                                                                  242 non-null    object \n",
      " 3   How did you hear about County College of Morris? [Social Media]                                                                                                                                                                                                  242 non-null    object \n",
      " 4   How did you hear about County College of Morris? [Community Event]                                                                                                                                                                                               242 non-null    object \n",
      " 5   How did you hear about County College of Morris? [Family member or friend]                                                                                                                                                                                       242 non-null    object \n",
      " 6   How did you hear about County College of Morris? [Current CCM student]                                                                                                                                                                                           242 non-null    object \n",
      " 7   How did you hear about County College of Morris? [CCM Alumni]                                                                                                                                                                                                    242 non-null    object \n",
      " 8   How did you hear about County College of Morris? [High School Teacher]                                                                                                                                                                                           242 non-null    object \n",
      " 9   How did you hear about County College of Morris? [High School Counselor]                                                                                                                                                                                         242 non-null    object \n",
      " 10  How did you hear about County College of Morris? [In-app advertisement]                                                                                                                                                                                          242 non-null    object \n",
      " 11  How did you hear about County College of Morris? [Employer]                                                                                                                                                                                                      242 non-null    object \n",
      " 12  How did you hear about County College of Morris? [Billboard]                                                                                                                                                                                                     242 non-null    object \n",
      " 13  How did you hear about County College of Morris? [Television]                                                                                                                                                                                                    242 non-null    object \n",
      " 14  How did you hear about County College of Morris? [Radio]                                                                                                                                                                                                         242 non-null    object \n",
      " 15  How did you hear about County College of Morris? [Home mailer]                                                                                                                                                                                                   242 non-null    object \n",
      " 16  How did you hear about County College of Morris? [Other]                                                                                                                                                                                                         242 non-null    object \n",
      " 17  To what extent did the following impact your decision to attend County College of Morris? [Affordable cost]                                                                                                                                                      223 non-null    object \n",
      " 18  To what extent did the following impact your decision to attend County College of Morris? [Location/convenience]                                                                                                                                                 229 non-null    object \n",
      " 19  To what extent did the following impact your decision to attend County College of Morris? [Choice of programs]                                                                                                                                                   228 non-null    object \n",
      " 20  To what extent did the following impact your decision to attend County College of Morris? [Online offerings]                                                                                                                                                     213 non-null    object \n",
      " 21  To what extent did the following impact your decision to attend County College of Morris? [Family/friend referral]                                                                                                                                               211 non-null    object \n",
      " 22  To what extent did the following impact your decision to attend County College of Morris? [Faculty/staff]                                                                                                                                                        203 non-null    object \n",
      " 23  To what extent did the following impact your decision to attend County College of Morris? [College reputation]                                                                                                                                                   213 non-null    object \n",
      " 24  To what extent did the following impact your decision to attend County College of Morris? [Financial Aid]                                                                                                                                                        209 non-null    object \n",
      " 25  To what extent did the following impact your decision to attend County College of Morris? [Scholarships]                                                                                                                                                         207 non-null    object \n",
      " 26  To what extent did the following impact your decision to attend County College of Morris? [Small class sizes]                                                                                                                                                    209 non-null    object \n",
      " 27  To what extent did the following impact your decision to attend County College of Morris? [Extra-curricular opportunities]                                                                                                                                       208 non-null    object \n",
      " 28  To what extent did the following impact your decision to attend County College of Morris? [Accepted my transfer credits]                                                                                                                                         182 non-null    object \n",
      " 29  To what extent did the following impact your decision to attend County College of Morris? [Negative experience at another college]                                                                                                                               178 non-null    object \n",
      " 30  To what extent did the following impact your decision to attend County College of Morris? [NJ Stars Program]                                                                                                                                                     177 non-null    object \n",
      " 31  To what extent did the following impact your decision to attend County College of Morris? [Ability to transfer CCM credits to a 4-year school]                                                                                                                   225 non-null    object \n",
      " 32  To what extent did the following impact your decision to attend County College of Morris? [Get college credit while in high school]                                                                                                                              193 non-null    object \n",
      " 33  Prior to applying to college, did you participate in any of the following events or activities at the County College of Morris and/or with the Department of Information Technologies, if at all? [Open House]                                                   242 non-null    object \n",
      " 34  Prior to applying to college, did you participate in any of the following events or activities at the County College of Morris and/or with the Department of Information Technologies, if at all? [Instant Decision Day]                                         242 non-null    object \n",
      " 35  Prior to applying to college, did you participate in any of the following events or activities at the County College of Morris and/or with the Department of Information Technologies, if at all? [On-Campus Information Session]                                242 non-null    object \n",
      " 36  Prior to applying to college, did you participate in any of the following events or activities at the County College of Morris and/or with the Department of Information Technologies, if at all? [Titans Tuesday (Virtual) Information Session]                 242 non-null    object \n",
      " 37  Prior to applying to college, did you participate in any of the following events or activities at the County College of Morris and/or with the Department of Information Technologies, if at all? [Women Who Dare]                                               242 non-null    object \n",
      " 38  Prior to applying to college, did you participate in any of the following events or activities at the County College of Morris and/or with the Department of Information Technologies, if at all? [Regional College Fair]                                        242 non-null    object \n",
      " 39  Prior to applying to college, did you participate in any of the following events or activities at the County College of Morris and/or with the Department of Information Technologies, if at all? [HS Sharetime Information Session]                             242 non-null    object \n",
      " 40  Prior to applying to college, did you participate in any of the following events or activities at the County College of Morris and/or with the Department of Information Technologies, if at all? [Challenger Program]                                           242 non-null    object \n",
      " 41  Prior to applying to college, did you participate in any of the following events or activities at the County College of Morris and/or with the Department of Information Technologies, if at all? [CyberSecurity Information Protection Program Participation ]  242 non-null    object \n",
      " 42  Prior to applying to college, did you participate in any of the following events or activities at the County College of Morris and/or with the Department of Information Technologies, if at all? [Information Session at my high school]                        242 non-null    object \n",
      " 43  Prior to applying to college, did you participate in any of the following events or activities at the County College of Morris and/or with the Department of Information Technologies, if at all? [Campus Visit with my high school]                             242 non-null    object \n",
      " 44  Prior to applying to college, did you participate in any of the following events or activities at the County College of Morris and/or with the Department of Information Technologies, if at all? [Campus Visit (individual)]                                    242 non-null    object \n",
      " 45  Prior to applying to college, did you participate in any of the following events or activities at the County College of Morris and/or with the Department of Information Technologies, if at all? [Workforce Development class]                                  242 non-null    object \n",
      " 46  Prior to applying to college, did you participate in any of the following events or activities at the County College of Morris and/or with the Department of Information Technologies, if at all? [Corporate Training]                                           242 non-null    object \n",
      " 47  Prior to applying to college, did you participate in any of the following events or activities at the County College of Morris and/or with the Department of Information Technologies, if at all? [Teen Arts Festival]                                           242 non-null    object \n",
      " 48  Prior to applying to college, did you participate in any of the following events or activities at the County College of Morris and/or with the Department of Information Technologies, if at all? [Summer camp at CCM]                                           242 non-null    object \n",
      " 49  Prior to applying to college, did you participate in any of the following events or activities at the County College of Morris and/or with the Department of Information Technologies, if at all? [Hour of Code]                                                 242 non-null    object \n",
      " 50  To what extent did the following activities or experience impact your decision to enroll in an computing course at CCM? [Middle/High school computing class]                                                                                                     210 non-null    object \n",
      " 51  To what extent did the following activities or experience impact your decision to enroll in an computing course at CCM? [Middle/High school computing related club]                                                                                              197 non-null    object \n",
      " 52  To what extent did the following activities or experience impact your decision to enroll in an computing course at CCM? [Computing-related competitions (e.g., Robotics competition, Lego competition, Cybersecurity, Programming)]                              199 non-null    object \n",
      " 53  To what extent did the following activities or experience impact your decision to enroll in an computing course at CCM? [Afterschool computing-related camp/program]                                                                                             190 non-null    object \n",
      " 54  To what extent did the following activities or experience impact your decision to enroll in an computing course at CCM? [Summer computing related camp/program]                                                                                                  191 non-null    object \n",
      " 55  To what extent did the following activities or experience impact your decision to enroll in an computing course at CCM? [An AP computing class]                                                                                                                  188 non-null    object \n",
      " 56  To what extent did the following activities or experience impact your decision to enroll in an computing course at CCM? [A dual enrollment computing class]                                                                                                      191 non-null    object \n",
      " 57  To what extent did the following activities or experience impact your decision to enroll in an computing course at CCM? [Family or friend influence]                                                                                                             219 non-null    object \n",
      " 58  To what extent did the following activities or experience impact your decision to enroll in an computing course at CCM? [Family or friend working in the computing field]                                                                                        213 non-null    object \n",
      " 59  To what extent did the following activities or experience impact your decision to enroll in an computing course at CCM? [High school teacher or guidance counselor]                                                                                              211 non-null    object \n",
      " 60  To what extent did the following activities or experience impact your decision to enroll in an computing course at CCM? [Employer influence]                                                                                                                     203 non-null    object \n",
      " 61  To what extent did the following activities or experience impact your decision to enroll in an computing course at CCM? [Current CCM student]                                                                                                                    206 non-null    object \n",
      " 62  To what extent did the following activities or experience impact your decision to enroll in an computing course at CCM? [Experience at work]                                                                                                                     206 non-null    object \n",
      " 63  To what extent did the following activities or experience impact your decision to enroll in an computing course at CCM? [Other]                                                                                                                                  175 non-null    object \n",
      " 64  What degree program are you currently enrolled in?                                                                                                                                                                                                               242 non-null    object \n",
      " 65  What motivated you to seek a computing degree/certificate at CCM?  [To get a job in the computing field]                                                                                                                                                         180 non-null    object \n",
      " 66  What motivated you to seek a computing degree/certificate at CCM?  [Transfer to bachelor's level program]                                                                                                                                                        180 non-null    object \n",
      " 67  What motivated you to seek a computing degree/certificate at CCM?  [Transfer credits back to HS degree (ShareTime, Challenger Program)]                                                                                                                          180 non-null    object \n",
      " 68  What motivated you to seek a computing degree/certificate at CCM?  [Career Advancement]                                                                                                                                                                          180 non-null    object \n",
      " 69  What motivated you to seek a computing degree/certificate at CCM?  [Career Change]                                                                                                                                                                               180 non-null    object \n",
      " 70  What motivated you to seek a computing degree/certificate at CCM?  [Professional Development]                                                                                                                                                                    180 non-null    object \n",
      " 71  What motivated you to seek a computing degree/certificate at CCM?  [Job Displacement]                                                                                                                                                                            180 non-null    object \n",
      " 72  What motivated you to seek a computing degree/certificate at CCM?  [Relocation]                                                                                                                                                                                  180 non-null    object \n",
      " 73  What motivated you to seek a computing degree/certificate at CCM?  [To keep current in tech industry]                                                                                                                                                            180 non-null    object \n",
      " 74  What motivated you to seek a computing degree/certificate at CCM?  [IT Industry Certifications]                                                                                                                                                                  180 non-null    object \n",
      " 75  What motivated you to seek a computing degree/certificate at CCM?  [Financial]                                                                                                                                                                                   180 non-null    object \n",
      " 76  What motivated you to seek a computing degree/certificate at CCM?  [Personal Enrichment]                                                                                                                                                                         180 non-null    object \n",
      " 77  Did you receive information about the CCM computing programs from any of the following sources? [High school guidance counselor]                                                                                                                                 180 non-null    object \n",
      " 78  Did you receive information about the CCM computing programs from any of the following sources? [High School Teacher]                                                                                                                                            180 non-null    object \n",
      " 79  Did you receive information about the CCM computing programs from any of the following sources? [CCM Information Technologies Website]                                                                                                                           180 non-null    object \n",
      " 80  Did you receive information about the CCM computing programs from any of the following sources? [CCM Admissions]                                                                                                                                                 180 non-null    object \n",
      " 81  Did you receive information about the CCM computing programs from any of the following sources? [CCM advisor/counselor]                                                                                                                                          180 non-null    object \n",
      " 82  Did you receive information about the CCM computing programs from any of the following sources? [Employer]                                                                                                                                                       180 non-null    object \n",
      " 83  Did you receive information about the CCM computing programs from any of the following sources? [CCM Workforce Development]                                                                                                                                      180 non-null    object \n",
      " 84  Did you receive information about the CCM computing programs from any of the following sources? [NJ Workforce Development Program]                                                                                                                               180 non-null    object \n",
      " 85  Did you receive information about the CCM computing programs from any of the following sources? [Other]                                                                                                                                                          180 non-null    object \n",
      " 86  Was a computing major/certificate your first choice, or did you change majors from a different CCM program? If you changed majors, indicate what your first major was.                                                                                           180 non-null    object \n",
      " 87  On a scale of 1 to 5, with 1 being not at all interested and 5 being extremely interested, how interested are you in taking more computing classes?                                                                                                              62 non-null     float64\n",
      " 88  Please explain your answer to the question above.  Why or why not would you be interested in taking another computing class?                                                                                                                                     62 non-null     object \n",
      " 89  Gender                                                                                                                                                                                                                                                           242 non-null    object \n",
      " 90  Race/ethnicity                                                                                                                                                                                                                                                   242 non-null    object \n",
      " 91  Age                                                                                                                                                                                                                                                              242 non-null    object \n",
      "dtypes: float64(1), object(91)\n",
      "memory usage: 174.1+ KB\n",
      "None\n"
     ]
    }
   ],
   "source": [
    "print(\"Dataset Info:\")\n",
    "print(majors_df.info())"
   ]
  },
  {
   "cell_type": "markdown",
   "metadata": {},
   "source": [
    "## Exploration:\n",
    "- Data has a lot of columns\n",
    "- Dataset is pretty messy\n",
    "- Column names are too long; impractical"
   ]
  },
  {
   "cell_type": "markdown",
   "metadata": {},
   "source": [
    "# Data Cleaning Operations"
   ]
  },
  {
   "cell_type": "markdown",
   "metadata": {},
   "source": [
    "Rename columns to single, lowercase words with underscores"
   ]
  },
  {
   "cell_type": "code",
   "execution_count": 8,
   "metadata": {},
   "outputs": [],
   "source": [
    "majors_df = majors_df.rename(\n",
    "    columns={\n",
    "        \"Timestamp\": \"timestamp\",\n",
    "        \"Which course are you enrolled in?\": \"course\",\n",
    "        \"What degree program are you currently enrolled in?\": \"degree_program\",\n",
    "        \"Gender\": \"gender\",\n",
    "        \"Race/ethnicity\": \"race_ethnicity\",\n",
    "        \"On a scale of 1 to 5, with 1 being not at all interested and 5 being extremely interested, how interested are you in taking more computing classes?\": \"interest_level\",\n",
    "        \"To what extent did the following impact your decision to attend County College of Morris? [Affordable cost]\": \"affordable_cost\",\n",
    "        \"To what extent did the following impact your decision to attend County College of Morris? [Location/convenience]\": \"location_convenience\",\n",
    "        \"To what extent did the following impact your decision to attend County College of Morris? [Choice of programs]\": \"choice_of_programs\",\n",
    "        \"To what extent did the following impact your decision to attend County College of Morris? [Online offerings]\": \"online_offerings\",\n",
    "        \"To what extent did the following impact your decision to attend County College of Morris? [Family/friend referral]\": \"family_friend_referral\",\n",
    "        \"To what extent did the following impact your decision to attend County College of Morris? [College reputation]\": \"college_reputation\",\n",
    "        \"What motivated you to seek a computing degree/certificate at CCM?  [To get a job in the computing field]\": \"to_get_a_job_in_the_computing_field\",\n",
    "        \"What motivated you to seek a computing degree/certificate at CCM?  [Transfer to bachelor's level program]\": \"transfer_to_bachelors_level_program\",\n",
    "        \"What motivated you to seek a computing degree/certificate at CCM?  [Career Advancement]\": \"career_advancement\",\n",
    "        \"What motivated you to seek a computing degree/certificate at CCM?  [Career Change]\": \"career_change\",\n",
    "        \"How did you hear about County College of Morris? [CCM Web site]\": \"ccm_web_site\",\n",
    "        \"How did you hear about County College of Morris? [Social Media]\": \"social_media\",\n",
    "        \"How did you hear about County College of Morris? [Family member or friend]\": \"family_member_or_friend\",\n",
    "        \"How did you hear about County College of Morris? [High School Counselor]\": \"high_school_counselor\",\n",
    "    }\n",
    ")"
   ]
  },
  {
   "cell_type": "markdown",
   "metadata": {},
   "source": [
    "Remove all columns we don't need"
   ]
  },
  {
   "cell_type": "code",
   "execution_count": 9,
   "metadata": {},
   "outputs": [],
   "source": [
    "recruitment_columns = [\n",
    "    \"timestamp\",\n",
    "    \"course\",\n",
    "    \"degree_program\",\n",
    "    \"gender\",\n",
    "    \"race_ethnicity\",\n",
    "    \"interest_level\",\n",
    "    \"affordable_cost\",\n",
    "    \"location_convenience\",\n",
    "    \"choice_of_programs\",\n",
    "    \"online_offerings\",\n",
    "    \"family_friend_referral\",\n",
    "    \"college_reputation\",\n",
    "    \"to_get_a_job_in_the_computing_field\",\n",
    "    \"transfer_to_bachelors_level_program\",\n",
    "    \"career_advancement\",\n",
    "    \"career_change\",\n",
    "    \"ccm_web_site\",\n",
    "    \"social_media\",\n",
    "    \"family_member_or_friend\",\n",
    "    \"high_school_counselor\",\n",
    "]\n",
    "\n",
    "# Keep only the relevant columns\n",
    "majors_df = majors_df[recruitment_columns]"
   ]
  },
  {
   "cell_type": "markdown",
   "metadata": {},
   "source": [
    "Clean and condense categorical values"
   ]
  },
  {
   "cell_type": "code",
   "execution_count": 10,
   "metadata": {},
   "outputs": [],
   "source": [
    "def standardize_program(program):\n",
    "    program = str(program).lower().strip()\n",
    "    # Collapse engineering and computing related majors\n",
    "    if any(\n",
    "        term in program\n",
    "        for term in [\n",
    "            \"engineering\",\n",
    "            \"computer\",\n",
    "            \"information\",\n",
    "            \"technology\",\n",
    "            \"programming\",\n",
    "        ]\n",
    "    ):\n",
    "        return \"computing_engineering\"\n",
    "    return program\n",
    "\n",
    "\n",
    "def standardize_race(race):\n",
    "    race = str(race).lower().strip()\n",
    "    # Group similar racial/ethnic categories\n",
    "    if pd.isna(race) or race == \"prefer not to say\":\n",
    "        return \"not_specified\"\n",
    "    if \"asian\" in race or \"pacific\" in race:\n",
    "        return \"asian_pacific_islander\"\n",
    "    if \"hispanic\" in race or \"latino\" in race:\n",
    "        return \"hispanic_latino\"\n",
    "    if \"black\" in race or \"african\" in race:\n",
    "        return \"black_african_american\"\n",
    "    if \"white\" in race or \"caucasian\" in race:\n",
    "        return \"white_caucasian\"\n",
    "    return \"other\"\n",
    "\n",
    "\n",
    "# Apply standardization\n",
    "majors_df[\"degree_program\"] = majors_df[\"degree_program\"].apply(standardize_program)\n",
    "majors_df[\"race_ethnicity\"] = majors_df[\"race_ethnicity\"].apply(standardize_race)"
   ]
  },
  {
   "cell_type": "markdown",
   "metadata": {},
   "source": [
    "Save cleaned dataset\n"
   ]
  },
  {
   "cell_type": "code",
   "execution_count": 11,
   "metadata": {},
   "outputs": [],
   "source": [
    "majors_df.to_csv(\"cleaned_majors_survey.csv\", index=False)"
   ]
  }
 ],
 "metadata": {
  "kernelspec": {
   "display_name": "Python 3",
   "language": "python",
   "name": "python3"
  },
  "language_info": {
   "codemirror_mode": {
    "name": "ipython",
    "version": 3
   },
   "file_extension": ".py",
   "mimetype": "text/x-python",
   "name": "python",
   "nbconvert_exporter": "python",
   "pygments_lexer": "ipython3",
   "version": "3.12.3"
  }
 },
 "nbformat": 4,
 "nbformat_minor": 2
}
